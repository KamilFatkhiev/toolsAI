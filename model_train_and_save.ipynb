{
 "cells": [
  {
   "cell_type": "code",
   "execution_count": 1,
   "id": "ae985a7b",
   "metadata": {},
   "outputs": [],
   "source": [
    "import pandas as pd\n",
    "import numpy as np\n",
    "from sklearn.datasets import load_iris\n",
    "from sklearn.linear_model import LogisticRegression\n",
    "from sklearn.decomposition import PCA\n",
    "from sklearn.model_selection import train_test_split\n",
    "from sklearn.metrics import r2_score\n",
    "import matplotlib.pyplot as plt"
   ]
  },
  {
   "cell_type": "code",
   "execution_count": 2,
   "id": "9179d7df",
   "metadata": {
    "scrolled": true
   },
   "outputs": [],
   "source": [
    "data = load_iris(as_frame=True)\n",
    "X = data.data\n",
    "y = data.target\n",
    "X_train, X_test, y_train, y_test = train_test_split(X, y, test_size=0.20, random_state=42, stratify=y)"
   ]
  },
  {
   "cell_type": "code",
   "execution_count": 3,
   "id": "7f56e8f6",
   "metadata": {
    "scrolled": true
   },
   "outputs": [],
   "source": [
    "# _, ax = plt.subplots()\n",
    "# scatter = ax.scatter(iris.data[:, 0], iris.data[:, 1], c=iris.target)\n",
    "# ax.set(xlabel=iris.feature_names[0], ylabel=iris.feature_names[1])\n",
    "# _ = ax.legend(\n",
    "#     scatter.legend_elements()[0], iris.target_names, loc=\"lower right\", title=\"Classes\"\n",
    "# )"
   ]
  },
  {
   "cell_type": "code",
   "execution_count": 4,
   "id": "27712858",
   "metadata": {
    "scrolled": true
   },
   "outputs": [],
   "source": [
    "X_reduced = PCA(n_components=3)\n",
    "X_reduced.fit(X_train)\n",
    "X_train_new = X_reduced.transform(X_train)\n",
    "X_test_new = X_reduced.transform(X_test)"
   ]
  },
  {
   "cell_type": "code",
   "execution_count": 5,
   "id": "fcf17f18",
   "metadata": {},
   "outputs": [
    {
     "data": {
      "text/plain": [
       "0.95"
      ]
     },
     "execution_count": 5,
     "metadata": {},
     "output_type": "execute_result"
    }
   ],
   "source": [
    "reg = LogisticRegression()\n",
    "reg.fit(X_train_new, y_train)\n",
    "r2_score(y_test, reg.predict(X_test_new))"
   ]
  }
 ],
 "metadata": {
  "kernelspec": {
   "display_name": "Python 3 (ipykernel)",
   "language": "python",
   "name": "python3"
  },
  "language_info": {
   "codemirror_mode": {
    "name": "ipython",
    "version": 3
   },
   "file_extension": ".py",
   "mimetype": "text/x-python",
   "name": "python",
   "nbconvert_exporter": "python",
   "pygments_lexer": "ipython3",
   "version": "3.11.4"
  }
 },
 "nbformat": 4,
 "nbformat_minor": 5
}
